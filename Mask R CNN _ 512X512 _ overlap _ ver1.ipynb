{
 "cells": [
  {
   "cell_type": "code",
   "execution_count": 2,
   "id": "621132bb-df78-4569-a12b-e1fd084ee29d",
   "metadata": {},
   "outputs": [],
   "source": [
    "import os\n",
    "import torch\n",
    "import torchvision\n",
    "import numpy as np\n",
    "import cv2\n",
    "from tqdm import tqdm\n",
    "from torchvision.transforms.functional import to_tensor\n",
    "from torch.utils.data import DataLoader, Dataset\n",
    "from torchvision.models.detection import maskrcnn_resnet50_fpn\n",
    "import matplotlib.pyplot as plt\n",
    "import random"
   ]
  },
  {
   "cell_type": "code",
   "execution_count": 3,
   "id": "4a843f63-3f25-456e-9c16-ca9186910fce",
   "metadata": {},
   "outputs": [],
   "source": [
    "class CellDataset(Dataset):\n",
    "    def __init__(self, image_dir, mask_dir):\n",
    "        self.image_dir = image_dir\n",
    "        self.mask_dir = mask_dir\n",
    "        self.images = sorted(os.listdir(image_dir))\n",
    "        self.masks = sorted(os.listdir(mask_dir))\n",
    "\n",
    "    def __len__(self):\n",
    "        return len(self.images)\n",
    "\n",
    "    def __getitem__(self, idx):\n",
    "        img_path = os.path.join(self.image_dir, self.images[idx])\n",
    "        mask_path = os.path.join(self.mask_dir, self.masks[idx])\n",
    "\n",
    "        # 이미지 로드 및 검증\n",
    "        img = cv2.imread(img_path)\n",
    "        if img is None:  # 이미지가 None일 경우 건너뛰기\n",
    "            print(f\"[ERROR] Cannot read image: {img_path}\")\n",
    "            return None\n",
    "\n",
    "        img = cv2.cvtColor(img, cv2.COLOR_BGR2RGB)\n",
    "\n",
    "        # 마스크 로드 및 검증\n",
    "        mask = cv2.imread(mask_path, cv2.IMREAD_GRAYSCALE)\n",
    "        if mask is None:  # 마스크가 None일 경우 건너뛰기\n",
    "            print(f\"[ERROR] Cannot read mask: {mask_path}\")\n",
    "            return None\n",
    "\n",
    "        # Tensor로 변환\n",
    "        img = to_tensor(img).clamp(0, 1)\n",
    "        mask = torch.as_tensor(mask, dtype=torch.uint8)\n",
    "\n",
    "        obj_ids = torch.unique(mask)[1:]  # 배경(0) 제외\n",
    "        masks = mask == obj_ids[:, None, None]\n",
    "\n",
    "        boxes = []\n",
    "        for i in range(len(obj_ids)):\n",
    "            pos = torch.where(masks[i])\n",
    "            xmin, xmax = torch.min(pos[1]), torch.max(pos[1])\n",
    "            ymin, ymax = torch.min(pos[0]), torch.max(pos[0])\n",
    "            boxes.append([xmin.item(), ymin.item(), xmax.item(), ymax.item()])\n",
    "\n",
    "        boxes = torch.as_tensor(boxes, dtype=torch.float32)\n",
    "        labels = torch.ones((len(obj_ids),), dtype=torch.int64)\n",
    "\n",
    "        target = {\"boxes\": boxes, \"labels\": labels, \"masks\": masks}\n",
    "\n",
    "        return img, target\n"
   ]
  },
  {
   "cell_type": "code",
   "execution_count": 4,
   "id": "ae478329-4cb5-4186-b93e-0b6d27201168",
   "metadata": {},
   "outputs": [
    {
     "name": "stdout",
     "output_type": "stream",
     "text": [
      "Training dataset size: 7014\n",
      "Validation dataset size: 1986\n"
     ]
    }
   ],
   "source": [
    "# Model Initialization\n",
    "device = torch.device(\"cuda\") if torch.cuda.is_available() else torch.device(\"cpu\")\n",
    "model = maskrcnn_resnet50_fpn(weights=\"DEFAULT\")\n",
    "\n",
    "# Redefine Predictors\n",
    "num_classes = 2\n",
    "in_features = model.roi_heads.box_predictor.cls_score.in_features\n",
    "model.roi_heads.box_predictor = torchvision.models.detection.faster_rcnn.FastRCNNPredictor(in_features, num_classes)\n",
    "in_features_mask = model.roi_heads.mask_predictor.conv5_mask.in_channels\n",
    "hidden_layer = 256\n",
    "model.roi_heads.mask_predictor = torchvision.models.detection.mask_rcnn.MaskRCNNPredictor(\n",
    "    in_features_mask, hidden_layer, num_classes\n",
    ")\n",
    "\n",
    "# Set image size\n",
    "model.to(device)\n",
    "\n",
    "# Paths to datasets\n",
    "train_image_dir = r\"C:\\Users\\user\\Desktop\\Cell DIC Mask R-CNN\\png_convert\\Training_data_512\\train\\DIC\"\n",
    "train_mask_dir = r\"C:\\Users\\user\\Desktop\\Cell DIC Mask R-CNN\\png_convert\\Training_data_512\\train\\mask\"\n",
    "val_image_dir = r\"C:\\Users\\user\\Desktop\\Cell DIC Mask R-CNN\\png_convert\\Training_data_512\\val\\DIC\"\n",
    "val_mask_dir = r\"C:\\Users\\user\\Desktop\\Cell DIC Mask R-CNN\\png_convert\\Training_data_512\\val\\mask\"\n",
    "\n",
    "# Create datasets\n",
    "train_dataset = CellDataset(image_dir=train_image_dir, mask_dir=train_mask_dir)\n",
    "val_dataset = CellDataset(image_dir=val_image_dir, mask_dir=val_mask_dir)\n",
    "\n",
    "print(f\"Training dataset size: {len(train_dataset)}\")\n",
    "print(f\"Validation dataset size: {len(val_dataset)}\")\n",
    "\n",
    "\n"
   ]
  },
  {
   "cell_type": "code",
   "execution_count": 5,
   "id": "2ed37fe3-b3e5-45a5-9576-633f04f1c458",
   "metadata": {},
   "outputs": [],
   "source": [
    "def validate_files(image_dir, mask_dir):\n",
    "    image_files = sorted(os.listdir(image_dir))\n",
    "    mask_files = sorted(os.listdir(mask_dir))\n",
    "\n",
    "    for img_file, mask_file in zip(image_files, mask_files):\n",
    "        img_path = os.path.join(image_dir, img_file)\n",
    "        mask_path = os.path.join(mask_dir, mask_file)\n",
    "\n",
    "        if cv2.imread(img_path) is None:\n",
    "            print(f\"[ERROR] Invalid image file: {img_path}\")\n",
    "        if cv2.imread(mask_path, cv2.IMREAD_GRAYSCALE) is None:\n",
    "            print(f\"[ERROR] Invalid mask file: {mask_path}\")\n",
    "\n",
    "dic_dir = r\"C:\\Users\\user\\Desktop\\Cell DIC Mask R-CNN\\png_convert\\Training_data_512\\train\\DIC\"\n",
    "mask_dir = r\"C:\\Users\\user\\Desktop\\Cell DIC Mask R-CNN\\png_convert\\Training_data_512\\train\\mask\"\n",
    "\n",
    "dic_dir = r\"C:\\Users\\user\\Desktop\\Cell DIC Mask R-CNN\\png_convert\\Training_data_512\\val\\DIC\"\n",
    "mask_dir = r\"C:\\Users\\user\\Desktop\\Cell DIC Mask R-CNN\\png_convert\\Training_data_512\\val\\mask\"\n",
    "\n",
    "# 파일 유효성 검사\n",
    "validate_files(dic_dir, mask_dir)"
   ]
  },
  {
   "cell_type": "code",
   "execution_count": 6,
   "id": "d18bd09e-627b-4cfa-9427-b5b2c048b9ce",
   "metadata": {},
   "outputs": [
    {
     "name": "stdout",
     "output_type": "stream",
     "text": [
      "\n",
      "Epoch 1/30\n"
     ]
    },
    {
     "name": "stderr",
     "output_type": "stream",
     "text": [
      "Training_512:   0%|                                                                                         | 0/877 [00:00<?, ?it/s]C:\\Users\\user\\anaconda3\\Lib\\site-packages\\torch\\nn\\modules\\conv.py:456: UserWarning: Plan failed with a cudnnException: CUDNN_BACKEND_EXECUTION_PLAN_DESCRIPTOR: cudnnFinalize Descriptor Failed cudnn_status: CUDNN_STATUS_NOT_SUPPORTED (Triggered internally at ..\\aten\\src\\ATen\\native\\cudnn\\Conv_v8.cpp:919.)\n",
      "  return F.conv2d(input, weight, bias, self.stride,\n",
      "C:\\Users\\user\\anaconda3\\Lib\\site-packages\\torch\\autograd\\graph.py:744: UserWarning: Plan failed with a cudnnException: CUDNN_BACKEND_EXECUTION_PLAN_DESCRIPTOR: cudnnFinalize Descriptor Failed cudnn_status: CUDNN_STATUS_NOT_SUPPORTED (Triggered internally at ..\\aten\\src\\ATen\\native\\cudnn\\Conv_v8.cpp:919.)\n",
      "  return Variable._execution_engine.run_backward(  # Calls into the C++ engine to run the backward pass\n",
      "Training_512:   0%|                                                                                 | 1/877 [00:02<30:04,  2.06s/it]"
     ]
    },
    {
     "name": "stdout",
     "output_type": "stream",
     "text": [
      "Step [0/877], Loss: 3.4895\n"
     ]
    },
    {
     "name": "stderr",
     "output_type": "stream",
     "text": [
      "Training_512:  34%|███████████████████████████                                                    | 301/877 [03:39<07:01,  1.37it/s]"
     ]
    },
    {
     "name": "stdout",
     "output_type": "stream",
     "text": [
      "Step [300/877], Loss: 0.2775\n"
     ]
    },
    {
     "name": "stderr",
     "output_type": "stream",
     "text": [
      "Training_512:  57%|█████████████████████████████████████████████▏                                 | 501/877 [06:04<05:12,  1.20it/s]"
     ]
    },
    {
     "name": "stdout",
     "output_type": "stream",
     "text": [
      "Saved visualization: training_logs_512\\epoch_1_step_500.png\n"
     ]
    },
    {
     "name": "stderr",
     "output_type": "stream",
     "text": [
      "Training_512:  69%|██████████████████████████████████████████████████████▏                        | 601/877 [07:16<03:20,  1.38it/s]"
     ]
    },
    {
     "name": "stdout",
     "output_type": "stream",
     "text": [
      "Step [600/877], Loss: 0.2069\n"
     ]
    },
    {
     "name": "stderr",
     "output_type": "stream",
     "text": [
      "Training_512: 100%|███████████████████████████████████████████████████████████████████████████████| 877/877 [10:32<00:00,  1.39it/s]\n"
     ]
    },
    {
     "name": "stdout",
     "output_type": "stream",
     "text": [
      "Epoch 1 Loss: 189.9958\n",
      "\n",
      "Epoch 2/30\n"
     ]
    },
    {
     "name": "stderr",
     "output_type": "stream",
     "text": [
      "Training_512:   0%|                                                                                 | 1/877 [00:00<10:09,  1.44it/s]"
     ]
    },
    {
     "name": "stdout",
     "output_type": "stream",
     "text": [
      "Step [0/877], Loss: 0.2092\n"
     ]
    },
    {
     "name": "stderr",
     "output_type": "stream",
     "text": [
      "Training_512:  34%|███████████████████████████                                                    | 301/877 [03:34<06:43,  1.43it/s]"
     ]
    },
    {
     "name": "stdout",
     "output_type": "stream",
     "text": [
      "Step [300/877], Loss: 0.1395\n"
     ]
    },
    {
     "name": "stderr",
     "output_type": "stream",
     "text": [
      "Training_512:  57%|█████████████████████████████████████████████▏                                 | 501/877 [05:56<05:46,  1.08it/s]"
     ]
    },
    {
     "name": "stdout",
     "output_type": "stream",
     "text": [
      "Saved visualization: training_logs_512\\epoch_2_step_500.png\n"
     ]
    },
    {
     "name": "stderr",
     "output_type": "stream",
     "text": [
      "Training_512:  69%|██████████████████████████████████████████████████████▏                        | 601/877 [07:25<03:59,  1.15it/s]"
     ]
    },
    {
     "name": "stdout",
     "output_type": "stream",
     "text": [
      "Step [600/877], Loss: 0.2040\n"
     ]
    },
    {
     "name": "stderr",
     "output_type": "stream",
     "text": [
      "Training_512: 100%|███████████████████████████████████████████████████████████████████████████████| 877/877 [11:07<00:00,  1.31it/s]\n"
     ]
    },
    {
     "name": "stdout",
     "output_type": "stream",
     "text": [
      "Epoch 2 Loss: 141.9165\n",
      "\n",
      "Epoch 3/30\n"
     ]
    },
    {
     "name": "stderr",
     "output_type": "stream",
     "text": [
      "Training_512:   0%|                                                                                 | 1/877 [00:00<11:13,  1.30it/s]"
     ]
    },
    {
     "name": "stdout",
     "output_type": "stream",
     "text": [
      "Step [0/877], Loss: 0.1649\n"
     ]
    },
    {
     "name": "stderr",
     "output_type": "stream",
     "text": [
      "Training_512:  34%|███████████████████████████                                                    | 301/877 [03:58<07:25,  1.29it/s]"
     ]
    },
    {
     "name": "stdout",
     "output_type": "stream",
     "text": [
      "Step [300/877], Loss: 0.1704\n"
     ]
    },
    {
     "name": "stderr",
     "output_type": "stream",
     "text": [
      "Training_512:  57%|█████████████████████████████████████████████▏                                 | 501/877 [06:37<05:25,  1.16it/s]"
     ]
    },
    {
     "name": "stdout",
     "output_type": "stream",
     "text": [
      "Saved visualization: training_logs_512\\epoch_3_step_500.png\n"
     ]
    },
    {
     "name": "stderr",
     "output_type": "stream",
     "text": [
      "Training_512:  69%|██████████████████████████████████████████████████████▏                        | 601/877 [07:58<03:38,  1.27it/s]"
     ]
    },
    {
     "name": "stdout",
     "output_type": "stream",
     "text": [
      "Step [600/877], Loss: 0.1198\n"
     ]
    },
    {
     "name": "stderr",
     "output_type": "stream",
     "text": [
      "Training_512: 100%|███████████████████████████████████████████████████████████████████████████████| 877/877 [11:44<00:00,  1.25it/s]\n"
     ]
    },
    {
     "name": "stdout",
     "output_type": "stream",
     "text": [
      "Epoch 3 Loss: 129.7715\n",
      "\n",
      "Epoch 4/30\n"
     ]
    },
    {
     "name": "stderr",
     "output_type": "stream",
     "text": [
      "Training_512:   0%| | 1/877 [00:00<11:32,  1.27"
     ]
    },
    {
     "name": "stdout",
     "output_type": "stream",
     "text": [
      "Step [0/877], Loss: 0.1482\n"
     ]
    },
    {
     "name": "stderr",
     "output_type": "stream",
     "text": [
      "Training_512:  34%|▎| 301/877 [04:00<07:35,  1."
     ]
    },
    {
     "name": "stdout",
     "output_type": "stream",
     "text": [
      "Step [300/877], Loss: 0.1428\n"
     ]
    },
    {
     "name": "stderr",
     "output_type": "stream",
     "text": [
      "Training_512:  57%|▌| 501/877 [06:41<05:28,  1."
     ]
    },
    {
     "name": "stdout",
     "output_type": "stream",
     "text": [
      "Saved visualization: training_logs_512\\epoch_4_step_500.png\n"
     ]
    },
    {
     "name": "stderr",
     "output_type": "stream",
     "text": [
      "Training_512:  69%|▋| 601/877 [08:00<03:31,  1."
     ]
    },
    {
     "name": "stdout",
     "output_type": "stream",
     "text": [
      "Step [600/877], Loss: 0.1615\n"
     ]
    },
    {
     "name": "stderr",
     "output_type": "stream",
     "text": [
      "Training_512: 100%|█| 877/877 [11:32<00:00,  1.\n"
     ]
    },
    {
     "name": "stdout",
     "output_type": "stream",
     "text": [
      "Epoch 4 Loss: 120.8147\n",
      "\n",
      "Epoch 5/30\n"
     ]
    },
    {
     "name": "stderr",
     "output_type": "stream",
     "text": [
      "Training_512:   0%| | 1/877 [00:00<11:00,  1.33"
     ]
    },
    {
     "name": "stdout",
     "output_type": "stream",
     "text": [
      "Step [0/877], Loss: 0.1102\n"
     ]
    },
    {
     "name": "stderr",
     "output_type": "stream",
     "text": [
      "Training_512:  34%|▎| 301/877 [03:49<07:19,  1."
     ]
    },
    {
     "name": "stdout",
     "output_type": "stream",
     "text": [
      "Step [300/877], Loss: 0.1164\n"
     ]
    },
    {
     "name": "stderr",
     "output_type": "stream",
     "text": [
      "Training_512:  57%|▌| 501/877 [06:22<05:14,  1."
     ]
    },
    {
     "name": "stdout",
     "output_type": "stream",
     "text": [
      "Saved visualization: training_logs_512\\epoch_5_step_500.png\n"
     ]
    },
    {
     "name": "stderr",
     "output_type": "stream",
     "text": [
      "Training_512:  69%|▋| 601/877 [07:38<03:30,  1."
     ]
    },
    {
     "name": "stdout",
     "output_type": "stream",
     "text": [
      "Step [600/877], Loss: 0.1462\n"
     ]
    },
    {
     "name": "stderr",
     "output_type": "stream",
     "text": [
      "Training_512: 100%|█| 877/877 [11:09<00:00,  1.\n"
     ]
    },
    {
     "name": "stdout",
     "output_type": "stream",
     "text": [
      "Epoch 5 Loss: 119.5959\n",
      "Checkpoint saved: training_logs_512\\mask_rcnn_epoch_5.pth\n",
      "\n",
      "Epoch 6/30\n"
     ]
    },
    {
     "name": "stderr",
     "output_type": "stream",
     "text": [
      "Training_512:   0%| | 1/877 [00:00<10:58,  1.33"
     ]
    },
    {
     "name": "stdout",
     "output_type": "stream",
     "text": [
      "Step [0/877], Loss: 0.1491\n"
     ]
    },
    {
     "name": "stderr",
     "output_type": "stream",
     "text": [
      "Training_512:  34%|▎| 301/877 [03:49<07:19,  1."
     ]
    },
    {
     "name": "stdout",
     "output_type": "stream",
     "text": [
      "Step [300/877], Loss: 0.1150\n"
     ]
    },
    {
     "name": "stderr",
     "output_type": "stream",
     "text": [
      "Training_512:  57%|▌| 501/877 [06:20<05:09,  1."
     ]
    },
    {
     "name": "stdout",
     "output_type": "stream",
     "text": [
      "Saved visualization: training_logs_512\\epoch_6_step_500.png\n"
     ]
    },
    {
     "name": "stderr",
     "output_type": "stream",
     "text": [
      "Training_512:  69%|▋| 601/877 [07:36<03:28,  1."
     ]
    },
    {
     "name": "stdout",
     "output_type": "stream",
     "text": [
      "Step [600/877], Loss: 0.1363\n"
     ]
    },
    {
     "name": "stderr",
     "output_type": "stream",
     "text": [
      "Training_512: 100%|█| 877/877 [11:02<00:00,  1.\n"
     ]
    },
    {
     "name": "stdout",
     "output_type": "stream",
     "text": [
      "Epoch 6 Loss: 118.6491\n",
      "\n",
      "Epoch 7/30\n"
     ]
    },
    {
     "name": "stderr",
     "output_type": "stream",
     "text": [
      "Training_512:   0%| | 1/877 [00:00<10:56,  1.34"
     ]
    },
    {
     "name": "stdout",
     "output_type": "stream",
     "text": [
      "Step [0/877], Loss: 0.1313\n"
     ]
    },
    {
     "name": "stderr",
     "output_type": "stream",
     "text": [
      "Training_512:  34%|▎| 301/877 [03:41<07:02,  1."
     ]
    },
    {
     "name": "stdout",
     "output_type": "stream",
     "text": [
      "Step [300/877], Loss: 0.1452\n"
     ]
    },
    {
     "name": "stderr",
     "output_type": "stream",
     "text": [
      "Training_512:  57%|▌| 501/877 [06:07<04:57,  1."
     ]
    },
    {
     "name": "stdout",
     "output_type": "stream",
     "text": [
      "Saved visualization: training_logs_512\\epoch_7_step_500.png\n"
     ]
    },
    {
     "name": "stderr",
     "output_type": "stream",
     "text": [
      "Training_512:  69%|▋| 601/877 [07:20<03:21,  1."
     ]
    },
    {
     "name": "stdout",
     "output_type": "stream",
     "text": [
      "Step [600/877], Loss: 0.1391\n"
     ]
    },
    {
     "name": "stderr",
     "output_type": "stream",
     "text": [
      "Training_512: 100%|█| 877/877 [10:40<00:00,  1.\n"
     ]
    },
    {
     "name": "stdout",
     "output_type": "stream",
     "text": [
      "Epoch 7 Loss: 117.6999\n",
      "\n",
      "Epoch 8/30\n"
     ]
    },
    {
     "name": "stderr",
     "output_type": "stream",
     "text": [
      "Training_512:   0%| | 1/877 [00:00<10:35,  1.38"
     ]
    },
    {
     "name": "stdout",
     "output_type": "stream",
     "text": [
      "Step [0/877], Loss: 0.1650\n"
     ]
    },
    {
     "name": "stderr",
     "output_type": "stream",
     "text": [
      "Training_512:  34%|▎| 301/877 [03:44<06:55,  1."
     ]
    },
    {
     "name": "stdout",
     "output_type": "stream",
     "text": [
      "Step [300/877], Loss: 0.1207\n"
     ]
    },
    {
     "name": "stderr",
     "output_type": "stream",
     "text": [
      "Training_512:  57%|▌| 501/877 [06:09<04:58,  1."
     ]
    },
    {
     "name": "stdout",
     "output_type": "stream",
     "text": [
      "Saved visualization: training_logs_512\\epoch_8_step_500.png\n"
     ]
    },
    {
     "name": "stderr",
     "output_type": "stream",
     "text": [
      "Training_512:  69%|▋| 601/877 [07:21<03:20,  1."
     ]
    },
    {
     "name": "stdout",
     "output_type": "stream",
     "text": [
      "Step [600/877], Loss: 0.1415\n"
     ]
    },
    {
     "name": "stderr",
     "output_type": "stream",
     "text": [
      "Training_512: 100%|█| 877/877 [10:41<00:00,  1.\n"
     ]
    },
    {
     "name": "stdout",
     "output_type": "stream",
     "text": [
      "Epoch 8 Loss: 117.6944\n",
      "\n",
      "Epoch 9/30\n"
     ]
    },
    {
     "name": "stderr",
     "output_type": "stream",
     "text": [
      "Training_512:   0%| | 1/877 [00:00<10:33,  1.38"
     ]
    },
    {
     "name": "stdout",
     "output_type": "stream",
     "text": [
      "Step [0/877], Loss: 0.1378\n"
     ]
    },
    {
     "name": "stderr",
     "output_type": "stream",
     "text": [
      "Training_512:  34%|▎| 301/877 [03:37<06:55,  1."
     ]
    },
    {
     "name": "stdout",
     "output_type": "stream",
     "text": [
      "Step [300/877], Loss: 0.1363\n"
     ]
    },
    {
     "name": "stderr",
     "output_type": "stream",
     "text": [
      "Training_512:  57%|▌| 501/877 [06:01<04:57,  1."
     ]
    },
    {
     "name": "stdout",
     "output_type": "stream",
     "text": [
      "Saved visualization: training_logs_512\\epoch_9_step_500.png\n"
     ]
    },
    {
     "name": "stderr",
     "output_type": "stream",
     "text": [
      "Training_512:  69%|▋| 601/877 [07:13<03:19,  1."
     ]
    },
    {
     "name": "stdout",
     "output_type": "stream",
     "text": [
      "Step [600/877], Loss: 0.1321\n"
     ]
    },
    {
     "name": "stderr",
     "output_type": "stream",
     "text": [
      "Training_512: 100%|█| 877/877 [10:32<00:00,  1.\n"
     ]
    },
    {
     "name": "stdout",
     "output_type": "stream",
     "text": [
      "Epoch 9 Loss: 117.6319\n",
      "\n",
      "Epoch 10/30\n"
     ]
    },
    {
     "name": "stderr",
     "output_type": "stream",
     "text": [
      "Training_512:   0%| | 1/877 [00:00<10:30,  1.39"
     ]
    },
    {
     "name": "stdout",
     "output_type": "stream",
     "text": [
      "Step [0/877], Loss: 0.1223\n"
     ]
    },
    {
     "name": "stderr",
     "output_type": "stream",
     "text": [
      "Training_512:  34%|▎| 301/877 [03:37<06:54,  1."
     ]
    },
    {
     "name": "stdout",
     "output_type": "stream",
     "text": [
      "Step [300/877], Loss: 0.1178\n"
     ]
    },
    {
     "name": "stderr",
     "output_type": "stream",
     "text": [
      "Training_512:  57%|▌| 501/877 [06:01<04:53,  1."
     ]
    },
    {
     "name": "stdout",
     "output_type": "stream",
     "text": [
      "Saved visualization: training_logs_512\\epoch_10_step_500.png\n"
     ]
    },
    {
     "name": "stderr",
     "output_type": "stream",
     "text": [
      "Training_512:  69%|▋| 601/877 [07:13<03:18,  1."
     ]
    },
    {
     "name": "stdout",
     "output_type": "stream",
     "text": [
      "Step [600/877], Loss: 0.1526\n"
     ]
    },
    {
     "name": "stderr",
     "output_type": "stream",
     "text": [
      "Training_512: 100%|█| 877/877 [10:32<00:00,  1.\n"
     ]
    },
    {
     "name": "stdout",
     "output_type": "stream",
     "text": [
      "Epoch 10 Loss: 117.4471\n",
      "Checkpoint saved: training_logs_512\\mask_rcnn_epoch_10.pth\n",
      "\n",
      "Epoch 11/30\n"
     ]
    },
    {
     "name": "stderr",
     "output_type": "stream",
     "text": [
      "Training_512:   0%| | 1/877 [00:00<10:13,  1.43"
     ]
    },
    {
     "name": "stdout",
     "output_type": "stream",
     "text": [
      "Step [0/877], Loss: 0.1206\n"
     ]
    },
    {
     "name": "stderr",
     "output_type": "stream",
     "text": [
      "Training_512:  34%|▎| 301/877 [03:31<06:43,  1."
     ]
    },
    {
     "name": "stdout",
     "output_type": "stream",
     "text": [
      "Step [300/877], Loss: 0.1632\n"
     ]
    },
    {
     "name": "stderr",
     "output_type": "stream",
     "text": [
      "Training_512:  57%|▌| 501/877 [05:51<04:47,  1."
     ]
    },
    {
     "name": "stdout",
     "output_type": "stream",
     "text": [
      "Saved visualization: training_logs_512\\epoch_11_step_500.png\n"
     ]
    },
    {
     "name": "stderr",
     "output_type": "stream",
     "text": [
      "Training_512:  69%|▋| 601/877 [07:01<03:12,  1."
     ]
    },
    {
     "name": "stdout",
     "output_type": "stream",
     "text": [
      "Step [600/877], Loss: 0.1189\n"
     ]
    },
    {
     "name": "stderr",
     "output_type": "stream",
     "text": [
      "Training_512: 100%|█| 877/877 [10:13<00:00,  1.\n"
     ]
    },
    {
     "name": "stdout",
     "output_type": "stream",
     "text": [
      "Epoch 11 Loss: 117.4300\n",
      "\n",
      "Epoch 12/30\n"
     ]
    },
    {
     "name": "stderr",
     "output_type": "stream",
     "text": [
      "Training_512:   0%| | 1/877 [00:00<10:15,  1.42"
     ]
    },
    {
     "name": "stdout",
     "output_type": "stream",
     "text": [
      "Step [0/877], Loss: 0.1284\n"
     ]
    },
    {
     "name": "stderr",
     "output_type": "stream",
     "text": [
      "Training_512:  34%|▎| 301/877 [03:30<06:41,  1."
     ]
    },
    {
     "name": "stdout",
     "output_type": "stream",
     "text": [
      "Step [300/877], Loss: 0.1575\n"
     ]
    },
    {
     "name": "stderr",
     "output_type": "stream",
     "text": [
      "Training_512:  57%|▌| 501/877 [05:50<04:48,  1."
     ]
    },
    {
     "name": "stdout",
     "output_type": "stream",
     "text": [
      "Saved visualization: training_logs_512\\epoch_12_step_500.png\n"
     ]
    },
    {
     "name": "stderr",
     "output_type": "stream",
     "text": [
      "Training_512:  69%|▋| 601/877 [06:59<03:12,  1."
     ]
    },
    {
     "name": "stdout",
     "output_type": "stream",
     "text": [
      "Step [600/877], Loss: 0.1307\n"
     ]
    },
    {
     "name": "stderr",
     "output_type": "stream",
     "text": [
      "Training_512: 100%|█| 877/877 [10:12<00:00,  1.\n"
     ]
    },
    {
     "name": "stdout",
     "output_type": "stream",
     "text": [
      "Epoch 12 Loss: 117.4478\n",
      "\n",
      "Epoch 13/30\n"
     ]
    },
    {
     "name": "stderr",
     "output_type": "stream",
     "text": [
      "Training_512:   0%| | 1/877 [00:00<10:16,  1.42"
     ]
    },
    {
     "name": "stdout",
     "output_type": "stream",
     "text": [
      "Step [0/877], Loss: 0.1429\n"
     ]
    },
    {
     "name": "stderr",
     "output_type": "stream",
     "text": [
      "Training_512:  34%|▎| 301/877 [03:30<06:40,  1."
     ]
    },
    {
     "name": "stdout",
     "output_type": "stream",
     "text": [
      "Step [300/877], Loss: 0.1211\n"
     ]
    },
    {
     "name": "stderr",
     "output_type": "stream",
     "text": [
      "Training_512:  57%|▌| 501/877 [05:50<04:46,  1."
     ]
    },
    {
     "name": "stdout",
     "output_type": "stream",
     "text": [
      "Saved visualization: training_logs_512\\epoch_13_step_500.png\n"
     ]
    },
    {
     "name": "stderr",
     "output_type": "stream",
     "text": [
      "Training_512:  69%|▋| 601/877 [06:59<03:13,  1."
     ]
    },
    {
     "name": "stdout",
     "output_type": "stream",
     "text": [
      "Step [600/877], Loss: 0.1427\n"
     ]
    },
    {
     "name": "stderr",
     "output_type": "stream",
     "text": [
      "Training_512: 100%|█| 877/877 [10:12<00:00,  1.\n"
     ]
    },
    {
     "name": "stdout",
     "output_type": "stream",
     "text": [
      "Epoch 13 Loss: 117.5933\n",
      "\n",
      "Epoch 14/30\n"
     ]
    },
    {
     "name": "stderr",
     "output_type": "stream",
     "text": [
      "Training_512:   0%| | 1/877 [00:00<10:15,  1.42"
     ]
    },
    {
     "name": "stdout",
     "output_type": "stream",
     "text": [
      "Step [0/877], Loss: 0.1347\n"
     ]
    },
    {
     "name": "stderr",
     "output_type": "stream",
     "text": [
      "Training_512:  34%|▎| 301/877 [03:30<06:42,  1."
     ]
    },
    {
     "name": "stdout",
     "output_type": "stream",
     "text": [
      "Step [300/877], Loss: 0.1210\n"
     ]
    },
    {
     "name": "stderr",
     "output_type": "stream",
     "text": [
      "Training_512:  57%|▌| 501/877 [05:50<04:47,  1."
     ]
    },
    {
     "name": "stdout",
     "output_type": "stream",
     "text": [
      "Saved visualization: training_logs_512\\epoch_14_step_500.png\n"
     ]
    },
    {
     "name": "stderr",
     "output_type": "stream",
     "text": [
      "Training_512:  69%|▋| 601/877 [07:00<03:12,  1."
     ]
    },
    {
     "name": "stdout",
     "output_type": "stream",
     "text": [
      "Step [600/877], Loss: 0.1271\n"
     ]
    },
    {
     "name": "stderr",
     "output_type": "stream",
     "text": [
      "Training_512: 100%|█| 877/877 [10:13<00:00,  1.\n"
     ]
    },
    {
     "name": "stdout",
     "output_type": "stream",
     "text": [
      "Epoch 14 Loss: 117.4032\n",
      "\n",
      "Epoch 15/30\n"
     ]
    },
    {
     "name": "stderr",
     "output_type": "stream",
     "text": [
      "Training_512:   0%| | 1/877 [00:00<10:16,  1.42"
     ]
    },
    {
     "name": "stdout",
     "output_type": "stream",
     "text": [
      "Step [0/877], Loss: 0.1620\n"
     ]
    },
    {
     "name": "stderr",
     "output_type": "stream",
     "text": [
      "Training_512:  34%|▎| 301/877 [03:29<06:42,  1."
     ]
    },
    {
     "name": "stdout",
     "output_type": "stream",
     "text": [
      "Step [300/877], Loss: 0.1473\n"
     ]
    },
    {
     "name": "stderr",
     "output_type": "stream",
     "text": [
      "Training_512:  57%|▌| 501/877 [05:49<05:04,  1."
     ]
    },
    {
     "name": "stdout",
     "output_type": "stream",
     "text": [
      "Saved visualization: training_logs_512\\epoch_15_step_500.png\n"
     ]
    },
    {
     "name": "stderr",
     "output_type": "stream",
     "text": [
      "Training_512:  69%|▋| 601/877 [06:59<03:12,  1."
     ]
    },
    {
     "name": "stdout",
     "output_type": "stream",
     "text": [
      "Step [600/877], Loss: 0.1204\n"
     ]
    },
    {
     "name": "stderr",
     "output_type": "stream",
     "text": [
      "Training_512: 100%|█| 877/877 [10:11<00:00,  1.\n"
     ]
    },
    {
     "name": "stdout",
     "output_type": "stream",
     "text": [
      "Epoch 15 Loss: 117.4857\n",
      "Checkpoint saved: training_logs_512\\mask_rcnn_epoch_15.pth\n",
      "\n",
      "Epoch 16/30\n"
     ]
    },
    {
     "name": "stderr",
     "output_type": "stream",
     "text": [
      "Training_512:   0%| | 1/877 [00:00<10:16,  1.42"
     ]
    },
    {
     "name": "stdout",
     "output_type": "stream",
     "text": [
      "Step [0/877], Loss: 0.1497\n"
     ]
    },
    {
     "name": "stderr",
     "output_type": "stream",
     "text": [
      "Training_512:  34%|▎| 301/877 [03:29<06:41,  1."
     ]
    },
    {
     "name": "stdout",
     "output_type": "stream",
     "text": [
      "Step [300/877], Loss: 0.1060\n"
     ]
    },
    {
     "name": "stderr",
     "output_type": "stream",
     "text": [
      "Training_512:  57%|▌| 501/877 [05:49<04:47,  1."
     ]
    },
    {
     "name": "stdout",
     "output_type": "stream",
     "text": [
      "Saved visualization: training_logs_512\\epoch_16_step_500.png\n"
     ]
    },
    {
     "name": "stderr",
     "output_type": "stream",
     "text": [
      "Training_512:  69%|▋| 601/877 [06:59<03:12,  1."
     ]
    },
    {
     "name": "stdout",
     "output_type": "stream",
     "text": [
      "Step [600/877], Loss: 0.1394\n"
     ]
    },
    {
     "name": "stderr",
     "output_type": "stream",
     "text": [
      "Training_512: 100%|█| 877/877 [10:11<00:00,  1.\n"
     ]
    },
    {
     "name": "stdout",
     "output_type": "stream",
     "text": [
      "Epoch 16 Loss: 117.4441\n",
      "\n",
      "Epoch 17/30\n"
     ]
    },
    {
     "name": "stderr",
     "output_type": "stream",
     "text": [
      "Training_512:   0%| | 1/877 [00:00<10:02,  1.45"
     ]
    },
    {
     "name": "stdout",
     "output_type": "stream",
     "text": [
      "Step [0/877], Loss: 0.1292\n"
     ]
    },
    {
     "name": "stderr",
     "output_type": "stream",
     "text": [
      "Training_512:  34%|▎| 301/877 [03:29<06:41,  1."
     ]
    },
    {
     "name": "stdout",
     "output_type": "stream",
     "text": [
      "Step [300/877], Loss: 0.1128\n"
     ]
    },
    {
     "name": "stderr",
     "output_type": "stream",
     "text": [
      "Training_512:  57%|▌| 501/877 [05:49<04:46,  1."
     ]
    },
    {
     "name": "stdout",
     "output_type": "stream",
     "text": [
      "Saved visualization: training_logs_512\\epoch_17_step_500.png\n"
     ]
    },
    {
     "name": "stderr",
     "output_type": "stream",
     "text": [
      "Training_512:  69%|▋| 601/877 [06:59<03:12,  1."
     ]
    },
    {
     "name": "stdout",
     "output_type": "stream",
     "text": [
      "Step [600/877], Loss: 0.1294\n"
     ]
    },
    {
     "name": "stderr",
     "output_type": "stream",
     "text": [
      "Training_512: 100%|█| 877/877 [10:11<00:00,  1.\n"
     ]
    },
    {
     "name": "stdout",
     "output_type": "stream",
     "text": [
      "Epoch 17 Loss: 117.4760\n",
      "\n",
      "Epoch 18/30\n"
     ]
    },
    {
     "name": "stderr",
     "output_type": "stream",
     "text": [
      "Training_512:   0%| | 1/877 [00:00<10:15,  1.42"
     ]
    },
    {
     "name": "stdout",
     "output_type": "stream",
     "text": [
      "Step [0/877], Loss: 0.1283\n"
     ]
    },
    {
     "name": "stderr",
     "output_type": "stream",
     "text": [
      "Training_512:  34%|▎| 301/877 [03:29<06:40,  1."
     ]
    },
    {
     "name": "stdout",
     "output_type": "stream",
     "text": [
      "Step [300/877], Loss: 0.1605\n"
     ]
    },
    {
     "name": "stderr",
     "output_type": "stream",
     "text": [
      "Training_512:  57%|▌| 501/877 [05:49<04:45,  1."
     ]
    },
    {
     "name": "stdout",
     "output_type": "stream",
     "text": [
      "Saved visualization: training_logs_512\\epoch_18_step_500.png\n"
     ]
    },
    {
     "name": "stderr",
     "output_type": "stream",
     "text": [
      "Training_512:  69%|▋| 601/877 [06:59<03:12,  1."
     ]
    },
    {
     "name": "stdout",
     "output_type": "stream",
     "text": [
      "Step [600/877], Loss: 0.1425\n"
     ]
    },
    {
     "name": "stderr",
     "output_type": "stream",
     "text": [
      "Training_512: 100%|█| 877/877 [10:11<00:00,  1.\n"
     ]
    },
    {
     "name": "stdout",
     "output_type": "stream",
     "text": [
      "Epoch 18 Loss: 117.4612\n",
      "\n",
      "Epoch 19/30\n"
     ]
    },
    {
     "name": "stderr",
     "output_type": "stream",
     "text": [
      "Training_512:   0%| | 1/877 [00:00<10:16,  1.42"
     ]
    },
    {
     "name": "stdout",
     "output_type": "stream",
     "text": [
      "Step [0/877], Loss: 0.0977\n"
     ]
    },
    {
     "name": "stderr",
     "output_type": "stream",
     "text": [
      "Training_512:  34%|▎| 301/877 [03:29<06:44,  1."
     ]
    },
    {
     "name": "stdout",
     "output_type": "stream",
     "text": [
      "Step [300/877], Loss: 0.1449\n"
     ]
    },
    {
     "name": "stderr",
     "output_type": "stream",
     "text": [
      "Training_512:  57%|▌| 501/877 [05:49<04:47,  1."
     ]
    },
    {
     "name": "stdout",
     "output_type": "stream",
     "text": [
      "Saved visualization: training_logs_512\\epoch_19_step_500.png\n"
     ]
    },
    {
     "name": "stderr",
     "output_type": "stream",
     "text": [
      "Training_512:  69%|▋| 601/877 [06:59<03:12,  1."
     ]
    },
    {
     "name": "stdout",
     "output_type": "stream",
     "text": [
      "Step [600/877], Loss: 0.1174\n"
     ]
    },
    {
     "name": "stderr",
     "output_type": "stream",
     "text": [
      "Training_512: 100%|█| 877/877 [10:12<00:00,  1.\n"
     ]
    },
    {
     "name": "stdout",
     "output_type": "stream",
     "text": [
      "Epoch 19 Loss: 117.5117\n",
      "\n",
      "Epoch 20/30\n"
     ]
    },
    {
     "name": "stderr",
     "output_type": "stream",
     "text": [
      "Training_512:   0%| | 1/877 [00:00<10:16,  1.42"
     ]
    },
    {
     "name": "stdout",
     "output_type": "stream",
     "text": [
      "Step [0/877], Loss: 0.1381\n"
     ]
    },
    {
     "name": "stderr",
     "output_type": "stream",
     "text": [
      "Training_512:  34%|▎| 301/877 [03:30<06:41,  1."
     ]
    },
    {
     "name": "stdout",
     "output_type": "stream",
     "text": [
      "Step [300/877], Loss: 0.1451\n"
     ]
    },
    {
     "name": "stderr",
     "output_type": "stream",
     "text": [
      "Training_512:  57%|▌| 501/877 [05:50<04:47,  1."
     ]
    },
    {
     "name": "stdout",
     "output_type": "stream",
     "text": [
      "Saved visualization: training_logs_512\\epoch_20_step_500.png\n"
     ]
    },
    {
     "name": "stderr",
     "output_type": "stream",
     "text": [
      "Training_512:  69%|▋| 601/877 [06:59<03:12,  1."
     ]
    },
    {
     "name": "stdout",
     "output_type": "stream",
     "text": [
      "Step [600/877], Loss: 0.1216\n"
     ]
    },
    {
     "name": "stderr",
     "output_type": "stream",
     "text": [
      "Training_512: 100%|█| 877/877 [10:12<00:00,  1.\n"
     ]
    },
    {
     "name": "stdout",
     "output_type": "stream",
     "text": [
      "Epoch 20 Loss: 117.4494\n",
      "Checkpoint saved: training_logs_512\\mask_rcnn_epoch_20.pth\n",
      "\n",
      "Epoch 21/30\n"
     ]
    },
    {
     "name": "stderr",
     "output_type": "stream",
     "text": [
      "Training_512:   0%| | 1/877 [00:00<10:15,  1.42"
     ]
    },
    {
     "name": "stdout",
     "output_type": "stream",
     "text": [
      "Step [0/877], Loss: 0.1146\n"
     ]
    },
    {
     "name": "stderr",
     "output_type": "stream",
     "text": [
      "Training_512:  34%|▎| 301/877 [03:29<06:42,  1."
     ]
    },
    {
     "name": "stdout",
     "output_type": "stream",
     "text": [
      "Step [300/877], Loss: 0.1345\n"
     ]
    },
    {
     "name": "stderr",
     "output_type": "stream",
     "text": [
      "Training_512:  57%|▌| 501/877 [05:49<04:47,  1."
     ]
    },
    {
     "name": "stdout",
     "output_type": "stream",
     "text": [
      "Saved visualization: training_logs_512\\epoch_21_step_500.png\n"
     ]
    },
    {
     "name": "stderr",
     "output_type": "stream",
     "text": [
      "Training_512:  69%|▋| 601/877 [06:58<03:12,  1."
     ]
    },
    {
     "name": "stdout",
     "output_type": "stream",
     "text": [
      "Step [600/877], Loss: 0.1432\n"
     ]
    },
    {
     "name": "stderr",
     "output_type": "stream",
     "text": [
      "Training_512: 100%|█| 877/877 [10:10<00:00,  1.\n"
     ]
    },
    {
     "name": "stdout",
     "output_type": "stream",
     "text": [
      "Epoch 21 Loss: 117.5016\n",
      "\n",
      "Epoch 22/30\n"
     ]
    },
    {
     "name": "stderr",
     "output_type": "stream",
     "text": [
      "Training_512:   0%| | 1/877 [00:00<10:02,  1.45"
     ]
    },
    {
     "name": "stdout",
     "output_type": "stream",
     "text": [
      "Step [0/877], Loss: 0.1210\n"
     ]
    },
    {
     "name": "stderr",
     "output_type": "stream",
     "text": [
      "Training_512:  34%|▎| 301/877 [03:28<06:40,  1."
     ]
    },
    {
     "name": "stdout",
     "output_type": "stream",
     "text": [
      "Step [300/877], Loss: 0.1086\n"
     ]
    },
    {
     "name": "stderr",
     "output_type": "stream",
     "text": [
      "Training_512:  57%|▌| 501/877 [05:47<04:46,  1."
     ]
    },
    {
     "name": "stdout",
     "output_type": "stream",
     "text": [
      "Saved visualization: training_logs_512\\epoch_22_step_500.png\n"
     ]
    },
    {
     "name": "stderr",
     "output_type": "stream",
     "text": [
      "Training_512:  69%|▋| 601/877 [06:56<03:10,  1."
     ]
    },
    {
     "name": "stdout",
     "output_type": "stream",
     "text": [
      "Step [600/877], Loss: 0.1391\n"
     ]
    },
    {
     "name": "stderr",
     "output_type": "stream",
     "text": [
      "Training_512: 100%|█| 877/877 [10:07<00:00,  1.\n"
     ]
    },
    {
     "name": "stdout",
     "output_type": "stream",
     "text": [
      "Epoch 22 Loss: 117.5058\n",
      "\n",
      "Epoch 23/30\n"
     ]
    },
    {
     "name": "stderr",
     "output_type": "stream",
     "text": [
      "Training_512:   0%| | 1/877 [00:00<10:03,  1.45"
     ]
    },
    {
     "name": "stdout",
     "output_type": "stream",
     "text": [
      "Step [0/877], Loss: 0.1226\n"
     ]
    },
    {
     "name": "stderr",
     "output_type": "stream",
     "text": [
      "Training_512:  34%|▎| 301/877 [03:28<06:38,  1."
     ]
    },
    {
     "name": "stdout",
     "output_type": "stream",
     "text": [
      "Step [300/877], Loss: 0.1470\n"
     ]
    },
    {
     "name": "stderr",
     "output_type": "stream",
     "text": [
      "Training_512:  57%|▌| 501/877 [05:47<04:44,  1."
     ]
    },
    {
     "name": "stdout",
     "output_type": "stream",
     "text": [
      "Saved visualization: training_logs_512\\epoch_23_step_500.png\n"
     ]
    },
    {
     "name": "stderr",
     "output_type": "stream",
     "text": [
      "Training_512:  69%|▋| 601/877 [06:56<03:12,  1."
     ]
    },
    {
     "name": "stdout",
     "output_type": "stream",
     "text": [
      "Step [600/877], Loss: 0.1320\n"
     ]
    },
    {
     "name": "stderr",
     "output_type": "stream",
     "text": [
      "Training_512: 100%|█| 877/877 [10:07<00:00,  1.\n"
     ]
    },
    {
     "name": "stdout",
     "output_type": "stream",
     "text": [
      "Epoch 23 Loss: 117.4428\n",
      "\n",
      "Epoch 24/30\n"
     ]
    },
    {
     "name": "stderr",
     "output_type": "stream",
     "text": [
      "Training_512:   0%| | 1/877 [00:00<10:16,  1.42"
     ]
    },
    {
     "name": "stdout",
     "output_type": "stream",
     "text": [
      "Step [0/877], Loss: 0.1738\n"
     ]
    },
    {
     "name": "stderr",
     "output_type": "stream",
     "text": [
      "Training_512:  34%|▎| 301/877 [03:28<06:39,  1."
     ]
    },
    {
     "name": "stdout",
     "output_type": "stream",
     "text": [
      "Step [300/877], Loss: 0.1336\n"
     ]
    },
    {
     "name": "stderr",
     "output_type": "stream",
     "text": [
      "Training_512:  57%|▌| 501/877 [05:47<04:46,  1."
     ]
    },
    {
     "name": "stdout",
     "output_type": "stream",
     "text": [
      "Saved visualization: training_logs_512\\epoch_24_step_500.png\n"
     ]
    },
    {
     "name": "stderr",
     "output_type": "stream",
     "text": [
      "Training_512:  69%|▋| 601/877 [06:56<03:12,  1."
     ]
    },
    {
     "name": "stdout",
     "output_type": "stream",
     "text": [
      "Step [600/877], Loss: 0.1164\n"
     ]
    },
    {
     "name": "stderr",
     "output_type": "stream",
     "text": [
      "Training_512: 100%|█| 877/877 [10:07<00:00,  1.\n"
     ]
    },
    {
     "name": "stdout",
     "output_type": "stream",
     "text": [
      "Epoch 24 Loss: 117.4516\n",
      "\n",
      "Epoch 25/30\n"
     ]
    },
    {
     "name": "stderr",
     "output_type": "stream",
     "text": [
      "Training_512:   0%| | 1/877 [00:00<10:03,  1.45"
     ]
    },
    {
     "name": "stdout",
     "output_type": "stream",
     "text": [
      "Step [0/877], Loss: 0.1420\n"
     ]
    },
    {
     "name": "stderr",
     "output_type": "stream",
     "text": [
      "Training_512:  34%|▎| 301/877 [03:28<06:37,  1."
     ]
    },
    {
     "name": "stdout",
     "output_type": "stream",
     "text": [
      "Step [300/877], Loss: 0.1220\n"
     ]
    },
    {
     "name": "stderr",
     "output_type": "stream",
     "text": [
      "Training_512:  57%|▌| 501/877 [05:47<04:43,  1."
     ]
    },
    {
     "name": "stdout",
     "output_type": "stream",
     "text": [
      "Saved visualization: training_logs_512\\epoch_25_step_500.png\n"
     ]
    },
    {
     "name": "stderr",
     "output_type": "stream",
     "text": [
      "Training_512:  69%|▋| 601/877 [06:56<03:10,  1."
     ]
    },
    {
     "name": "stdout",
     "output_type": "stream",
     "text": [
      "Step [600/877], Loss: 0.1369\n"
     ]
    },
    {
     "name": "stderr",
     "output_type": "stream",
     "text": [
      "Training_512: 100%|█| 877/877 [10:07<00:00,  1.\n"
     ]
    },
    {
     "name": "stdout",
     "output_type": "stream",
     "text": [
      "Epoch 25 Loss: 117.4461\n",
      "Checkpoint saved: training_logs_512\\mask_rcnn_epoch_25.pth\n",
      "\n",
      "Epoch 26/30\n"
     ]
    },
    {
     "name": "stderr",
     "output_type": "stream",
     "text": [
      "Training_512:   0%| | 1/877 [00:00<09:48,  1.49"
     ]
    },
    {
     "name": "stdout",
     "output_type": "stream",
     "text": [
      "Step [0/877], Loss: 0.1550\n"
     ]
    },
    {
     "name": "stderr",
     "output_type": "stream",
     "text": [
      "Training_512:  34%|▎| 301/877 [03:28<06:38,  1."
     ]
    },
    {
     "name": "stdout",
     "output_type": "stream",
     "text": [
      "Step [300/877], Loss: 0.1282\n"
     ]
    },
    {
     "name": "stderr",
     "output_type": "stream",
     "text": [
      "Training_512:  57%|▌| 501/877 [05:47<04:46,  1."
     ]
    },
    {
     "name": "stdout",
     "output_type": "stream",
     "text": [
      "Saved visualization: training_logs_512\\epoch_26_step_500.png\n"
     ]
    },
    {
     "name": "stderr",
     "output_type": "stream",
     "text": [
      "Training_512:  69%|▋| 601/877 [06:56<03:11,  1."
     ]
    },
    {
     "name": "stdout",
     "output_type": "stream",
     "text": [
      "Step [600/877], Loss: 0.1478\n"
     ]
    },
    {
     "name": "stderr",
     "output_type": "stream",
     "text": [
      "Training_512: 100%|█| 877/877 [10:07<00:00,  1.\n"
     ]
    },
    {
     "name": "stdout",
     "output_type": "stream",
     "text": [
      "Epoch 26 Loss: 117.4348\n",
      "\n",
      "Epoch 27/30\n"
     ]
    },
    {
     "name": "stderr",
     "output_type": "stream",
     "text": [
      "Training_512:   0%| | 1/877 [00:00<10:15,  1.42"
     ]
    },
    {
     "name": "stdout",
     "output_type": "stream",
     "text": [
      "Step [0/877], Loss: 0.1699\n"
     ]
    },
    {
     "name": "stderr",
     "output_type": "stream",
     "text": [
      "Training_512:  34%|▎| 301/877 [03:28<06:38,  1."
     ]
    },
    {
     "name": "stdout",
     "output_type": "stream",
     "text": [
      "Step [300/877], Loss: 0.1471\n"
     ]
    },
    {
     "name": "stderr",
     "output_type": "stream",
     "text": [
      "Training_512:  57%|▌| 501/877 [05:47<04:45,  1."
     ]
    },
    {
     "name": "stdout",
     "output_type": "stream",
     "text": [
      "Saved visualization: training_logs_512\\epoch_27_step_500.png\n"
     ]
    },
    {
     "name": "stderr",
     "output_type": "stream",
     "text": [
      "Training_512:  69%|▋| 601/877 [06:56<03:11,  1."
     ]
    },
    {
     "name": "stdout",
     "output_type": "stream",
     "text": [
      "Step [600/877], Loss: 0.1346\n"
     ]
    },
    {
     "name": "stderr",
     "output_type": "stream",
     "text": [
      "Training_512: 100%|█| 877/877 [10:07<00:00,  1.\n"
     ]
    },
    {
     "name": "stdout",
     "output_type": "stream",
     "text": [
      "Epoch 27 Loss: 117.6484\n",
      "\n",
      "Epoch 28/30\n"
     ]
    },
    {
     "name": "stderr",
     "output_type": "stream",
     "text": [
      "Training_512:   0%| | 1/877 [00:00<10:16,  1.42"
     ]
    },
    {
     "name": "stdout",
     "output_type": "stream",
     "text": [
      "Step [0/877], Loss: 0.1250\n"
     ]
    },
    {
     "name": "stderr",
     "output_type": "stream",
     "text": [
      "Training_512:  34%|▎| 301/877 [03:28<06:38,  1."
     ]
    },
    {
     "name": "stdout",
     "output_type": "stream",
     "text": [
      "Step [300/877], Loss: 0.1620\n"
     ]
    },
    {
     "name": "stderr",
     "output_type": "stream",
     "text": [
      "Training_512:  57%|▌| 501/877 [05:47<04:44,  1."
     ]
    },
    {
     "name": "stdout",
     "output_type": "stream",
     "text": [
      "Saved visualization: training_logs_512\\epoch_28_step_500.png\n"
     ]
    },
    {
     "name": "stderr",
     "output_type": "stream",
     "text": [
      "Training_512:  69%|▋| 601/877 [06:56<03:11,  1."
     ]
    },
    {
     "name": "stdout",
     "output_type": "stream",
     "text": [
      "Step [600/877], Loss: 0.1319\n"
     ]
    },
    {
     "name": "stderr",
     "output_type": "stream",
     "text": [
      "Training_512: 100%|█| 877/877 [10:07<00:00,  1.\n"
     ]
    },
    {
     "name": "stdout",
     "output_type": "stream",
     "text": [
      "Epoch 28 Loss: 117.4328\n",
      "\n",
      "Epoch 29/30\n"
     ]
    },
    {
     "name": "stderr",
     "output_type": "stream",
     "text": [
      "Training_512:   0%| | 1/877 [00:00<10:16,  1.42"
     ]
    },
    {
     "name": "stdout",
     "output_type": "stream",
     "text": [
      "Step [0/877], Loss: 0.1618\n"
     ]
    },
    {
     "name": "stderr",
     "output_type": "stream",
     "text": [
      "Training_512:  34%|▎| 301/877 [03:28<06:37,  1."
     ]
    },
    {
     "name": "stdout",
     "output_type": "stream",
     "text": [
      "Step [300/877], Loss: 0.1472\n"
     ]
    },
    {
     "name": "stderr",
     "output_type": "stream",
     "text": [
      "Training_512:  57%|▌| 501/877 [05:47<04:45,  1."
     ]
    },
    {
     "name": "stdout",
     "output_type": "stream",
     "text": [
      "Saved visualization: training_logs_512\\epoch_29_step_500.png\n"
     ]
    },
    {
     "name": "stderr",
     "output_type": "stream",
     "text": [
      "Training_512:  69%|▋| 601/877 [06:56<03:12,  1."
     ]
    },
    {
     "name": "stdout",
     "output_type": "stream",
     "text": [
      "Step [600/877], Loss: 0.1246\n"
     ]
    },
    {
     "name": "stderr",
     "output_type": "stream",
     "text": [
      "Training_512: 100%|█| 877/877 [10:08<00:00,  1.\n"
     ]
    },
    {
     "name": "stdout",
     "output_type": "stream",
     "text": [
      "Epoch 29 Loss: 117.4998\n",
      "\n",
      "Epoch 30/30\n"
     ]
    },
    {
     "name": "stderr",
     "output_type": "stream",
     "text": [
      "Training_512:   0%| | 1/877 [00:00<10:02,  1.45"
     ]
    },
    {
     "name": "stdout",
     "output_type": "stream",
     "text": [
      "Step [0/877], Loss: 0.1200\n"
     ]
    },
    {
     "name": "stderr",
     "output_type": "stream",
     "text": [
      "Training_512:  34%|▎| 301/877 [03:28<06:39,  1."
     ]
    },
    {
     "name": "stdout",
     "output_type": "stream",
     "text": [
      "Step [300/877], Loss: 0.1667\n"
     ]
    },
    {
     "name": "stderr",
     "output_type": "stream",
     "text": [
      "Training_512:  57%|▌| 501/877 [05:47<04:45,  1."
     ]
    },
    {
     "name": "stdout",
     "output_type": "stream",
     "text": [
      "Saved visualization: training_logs_512\\epoch_30_step_500.png\n"
     ]
    },
    {
     "name": "stderr",
     "output_type": "stream",
     "text": [
      "Training_512:  69%|▋| 601/877 [06:57<03:11,  1."
     ]
    },
    {
     "name": "stdout",
     "output_type": "stream",
     "text": [
      "Step [600/877], Loss: 0.1137\n"
     ]
    },
    {
     "name": "stderr",
     "output_type": "stream",
     "text": [
      "Training_512: 100%|█| 877/877 [10:08<00:00,  1.\n"
     ]
    },
    {
     "name": "stdout",
     "output_type": "stream",
     "text": [
      "Epoch 30 Loss: 117.5089\n",
      "Checkpoint saved: training_logs_512\\mask_rcnn_epoch_30.pth\n",
      "Final model saved: training_logs_512\\mask_rcnn_final.pth\n"
     ]
    }
   ],
   "source": [
    "import os\n",
    "import random\n",
    "import torch\n",
    "import matplotlib.pyplot as plt\n",
    "from tqdm import tqdm\n",
    "\n",
    "# Model Transform Settings for 512x512\n",
    "#model.transform.min_size = [512]\n",
    "#model.transform.max_size = 512\n",
    "\n",
    "# Adjust Anchor Settings\n",
    "#model.rpn.anchor_generator.sizes = ((32, 64, 128),)  # Smaller anchors for smaller patches\n",
    "#model.rpn.anchor_generator.aspect_ratios = ((0.5, 1.0, 2.0),)  # Default aspect ratios\n",
    "\n",
    "# DataLoader\n",
    "def collate_fn(batch):\n",
    "    batch = [b for b in batch if b is not None]  # None 데이터 제거\n",
    "    if len(batch) == 0:  # 모든 데이터가 None이면 None 반환\n",
    "        return None\n",
    "    return tuple(zip(*batch))\n",
    "\n",
    "train_loader = DataLoader(train_dataset, batch_size=8, shuffle=True, collate_fn=collate_fn)\n",
    "val_loader = DataLoader(val_dataset, batch_size=8, shuffle=False, collate_fn=collate_fn)\n",
    "\n",
    "# Optimizer and Scheduler\n",
    "optimizer = torch.optim.SGD(model.parameters(), lr=0.001, momentum=0.9, weight_decay=0.0005)\n",
    "lr_scheduler = torch.optim.lr_scheduler.StepLR(optimizer, step_size=3, gamma=0.1)\n",
    "\n",
    "# Training Loop\n",
    "num_epochs = 30\n",
    "log_dir = \"training_logs_512\"\n",
    "os.makedirs(log_dir, exist_ok=True)\n",
    "\n",
    "for epoch in range(num_epochs):\n",
    "    model.train()\n",
    "    epoch_loss = 0\n",
    "    print(f\"\\nEpoch {epoch + 1}/{num_epochs}\")\n",
    "\n",
    "    # Training Phase\n",
    "    for step, batch in enumerate(tqdm(train_loader, desc=\"Training_512\")):\n",
    "        if batch is None:  # 빈 배치 건너뛰기\n",
    "            print(f\"Step {step}: Empty batch detected, skipping...\")\n",
    "            continue\n",
    "\n",
    "        imgs, targets = batch\n",
    "        imgs = [img.to(device) for img in imgs]\n",
    "        targets = [{k: v.to(device) for k, v in t.items()} for t in targets]\n",
    "\n",
    "        # Forward pass와 Loss 계산\n",
    "        loss_dict = model(imgs, targets)\n",
    "        losses = sum(loss for loss in loss_dict.values())\n",
    "\n",
    "        optimizer.zero_grad()\n",
    "        losses.backward()\n",
    "        optimizer.step()\n",
    "\n",
    "        epoch_loss += losses.item()\n",
    "\n",
    "        # Display Loss every 300 steps\n",
    "        if step % 300 == 0:\n",
    "            print(f\"Step [{step}/{len(train_loader)}], Loss: {losses.item():.4f}\")\n",
    "\n",
    "        # Save Validation Visualization every 500 steps\n",
    "        if step % 500 == 0 and step != 0:\n",
    "            model.eval()\n",
    "            with torch.no_grad():\n",
    "                random_idx = random.randint(0, len(val_dataset) - 1)\n",
    "                val_img, val_target = val_dataset[random_idx]\n",
    "                val_img = val_img.to(device).unsqueeze(0)\n",
    "                prediction = model(val_img)\n",
    "\n",
    "                # Visualization\n",
    "                plt.figure(figsize=(12, 6))\n",
    "                plt.subplot(1, 2, 1)\n",
    "                plt.title(\"Input Image\")\n",
    "                plt.imshow(val_img[0].cpu().permute(1, 2, 0))\n",
    "                plt.axis(\"off\")\n",
    "\n",
    "                plt.subplot(1, 2, 2)\n",
    "                plt.title(\"Predicted Mask\")\n",
    "                if \"masks\" in prediction[0] and prediction[0][\"masks\"].shape[0] > 0:\n",
    "                    pred_mask = prediction[0][\"masks\"].cpu().numpy()\n",
    "                    combined_mask = pred_mask.max(axis=0).squeeze()\n",
    "                    plt.imshow(combined_mask, cmap=\"gray\")\n",
    "                else:\n",
    "                    plt.text(0.5, 0.5, \"No mask predicted\", ha=\"center\", va=\"center\", fontsize=12)\n",
    "                plt.axis(\"off\")\n",
    "\n",
    "                # Save Visualization\n",
    "                plt_path = os.path.join(log_dir, f\"epoch_{epoch + 1}_step_{step}.png\")\n",
    "                plt.savefig(plt_path)\n",
    "                print(f\"Saved visualization: {plt_path}\")\n",
    "                plt.close()\n",
    "            model.train()\n",
    "\n",
    "    print(f\"Epoch {epoch + 1} Loss: {epoch_loss:.4f}\")\n",
    "    lr_scheduler.step()\n",
    "\n",
    "    # Save Model Checkpoint\n",
    "    if (epoch + 1) % 5 == 0:\n",
    "        checkpoint_path = os.path.join(log_dir, f\"mask_rcnn_epoch_{epoch + 1}.pth\")\n",
    "        torch.save(model.state_dict(), checkpoint_path)\n",
    "        print(f\"Checkpoint saved: {checkpoint_path}\")\n",
    "\n",
    "# Save Final Model\n",
    "final_model_path = os.path.join(log_dir, \"mask_rcnn_final.pth\")\n",
    "torch.save(model.state_dict(), final_model_path)\n",
    "print(f\"Final model saved: {final_model_path}\")\n"
   ]
  },
  {
   "cell_type": "code",
   "execution_count": null,
   "id": "37a240c1-92e5-4f83-a334-c70c845983bb",
   "metadata": {},
   "outputs": [],
   "source": []
  },
  {
   "cell_type": "code",
   "execution_count": null,
   "id": "2fba22bc-723e-4363-b09a-715e121f4e3b",
   "metadata": {},
   "outputs": [],
   "source": []
  },
  {
   "cell_type": "code",
   "execution_count": null,
   "id": "678b122b-72f6-4729-8057-92b42d08404e",
   "metadata": {},
   "outputs": [],
   "source": []
  },
  {
   "cell_type": "code",
   "execution_count": null,
   "id": "d6e53b26-c268-4098-ae62-2521cc0f3ed7",
   "metadata": {},
   "outputs": [],
   "source": []
  },
  {
   "cell_type": "code",
   "execution_count": null,
   "id": "06943001-1cb9-4a37-bdb1-6594b2a6b391",
   "metadata": {},
   "outputs": [],
   "source": []
  }
 ],
 "metadata": {
  "kernelspec": {
   "display_name": "Python 3 (ipykernel)",
   "language": "python",
   "name": "python3"
  },
  "language_info": {
   "codemirror_mode": {
    "name": "ipython",
    "version": 3
   },
   "file_extension": ".py",
   "mimetype": "text/x-python",
   "name": "python",
   "nbconvert_exporter": "python",
   "pygments_lexer": "ipython3",
   "version": "3.11.7"
  }
 },
 "nbformat": 4,
 "nbformat_minor": 5
}
